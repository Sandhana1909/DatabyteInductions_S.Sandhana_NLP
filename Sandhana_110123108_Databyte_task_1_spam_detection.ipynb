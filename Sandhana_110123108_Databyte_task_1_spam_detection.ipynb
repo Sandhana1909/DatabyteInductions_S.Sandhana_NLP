{
  "nbformat": 4,
  "nbformat_minor": 0,
  "metadata": {
    "colab": {
      "provenance": []
    },
    "kernelspec": {
      "name": "python3",
      "display_name": "Python 3"
    },
    "language_info": {
      "name": "python"
    }
  },
  "cells": [
    {
      "cell_type": "code",
      "source": [
        "import numpy as np\n",
        "import pandas as pd\n",
        "from sklearn.preprocessing import StandardScaler\n",
        "from sklearn.model_selection import train_test_split\n",
        "from sklearn.metrics import accuracy_score\n",
        "from sklearn.metrics import precision_score\n",
        "from sklearn.metrics import recall_score\n",
        "from sklearn.metrics import f1_score\n",
        "from sklearn.metrics import confusion_matrix"
      ],
      "metadata": {
        "id": "UX26cYJoHRBo"
      },
      "execution_count": 67,
      "outputs": []
    },
    {
      "cell_type": "code",
      "source": [
        "pip install ucimlrepo"
      ],
      "metadata": {
        "colab": {
          "base_uri": "https://localhost:8080/"
        },
        "id": "fKb-nLt7S-eP",
        "outputId": "ed4a554d-570b-4f26-c123-ef4ed914c431"
      },
      "execution_count": 68,
      "outputs": [
        {
          "output_type": "stream",
          "name": "stdout",
          "text": [
            "Requirement already satisfied: ucimlrepo in /usr/local/lib/python3.10/dist-packages (0.0.7)\n",
            "Requirement already satisfied: pandas>=1.0.0 in /usr/local/lib/python3.10/dist-packages (from ucimlrepo) (2.0.3)\n",
            "Requirement already satisfied: certifi>=2020.12.5 in /usr/local/lib/python3.10/dist-packages (from ucimlrepo) (2024.6.2)\n",
            "Requirement already satisfied: python-dateutil>=2.8.2 in /usr/local/lib/python3.10/dist-packages (from pandas>=1.0.0->ucimlrepo) (2.8.2)\n",
            "Requirement already satisfied: pytz>=2020.1 in /usr/local/lib/python3.10/dist-packages (from pandas>=1.0.0->ucimlrepo) (2023.4)\n",
            "Requirement already satisfied: tzdata>=2022.1 in /usr/local/lib/python3.10/dist-packages (from pandas>=1.0.0->ucimlrepo) (2024.1)\n",
            "Requirement already satisfied: numpy>=1.21.0 in /usr/local/lib/python3.10/dist-packages (from pandas>=1.0.0->ucimlrepo) (1.25.2)\n",
            "Requirement already satisfied: six>=1.5 in /usr/local/lib/python3.10/dist-packages (from python-dateutil>=2.8.2->pandas>=1.0.0->ucimlrepo) (1.16.0)\n"
          ]
        }
      ]
    },
    {
      "cell_type": "code",
      "source": [
        "from ucimlrepo import fetch_ucirepo\n",
        "\n",
        "# fetch dataset\n",
        "spambase = fetch_ucirepo(id=94)\n",
        "\n",
        "# data (as pandas dataframes)\n",
        "X = spambase.data.features\n",
        "y = spambase.data.targets\n",
        "\n",
        "# metadata\n",
        "print(spambase.metadata)\n",
        "\n",
        "# variable information\n",
        "print(spambase.variables)\n"
      ],
      "metadata": {
        "colab": {
          "base_uri": "https://localhost:8080/"
        },
        "id": "L6ujP-54TCuq",
        "outputId": "de62036b-97e9-45eb-ca90-a4bf300b14e5"
      },
      "execution_count": 69,
      "outputs": [
        {
          "output_type": "stream",
          "name": "stdout",
          "text": [
            "{'uci_id': 94, 'name': 'Spambase', 'repository_url': 'https://archive.ics.uci.edu/dataset/94/spambase', 'data_url': 'https://archive.ics.uci.edu/static/public/94/data.csv', 'abstract': 'Classifying Email as Spam or Non-Spam', 'area': 'Computer Science', 'tasks': ['Classification'], 'characteristics': ['Multivariate'], 'num_instances': 4601, 'num_features': 57, 'feature_types': ['Integer', 'Real'], 'demographics': [], 'target_col': ['Class'], 'index_col': None, 'has_missing_values': 'no', 'missing_values_symbol': None, 'year_of_dataset_creation': 1999, 'last_updated': 'Mon Aug 28 2023', 'dataset_doi': '10.24432/C53G6X', 'creators': ['Mark Hopkins', 'Erik Reeber', 'George Forman', 'Jaap Suermondt'], 'intro_paper': None, 'additional_info': {'summary': 'The \"spam\" concept is diverse: advertisements for products/web sites, make money fast schemes, chain letters, pornography...\\n\\nThe classification task for this dataset is to determine whether a given email is spam or not.\\n\\t\\nOur collection of spam e-mails came from our postmaster and individuals who had filed spam.  Our collection of non-spam e-mails came from filed work and personal e-mails, and hence the word \\'george\\' and the area code \\'650\\' are indicators of non-spam.  These are useful when constructing a personalized spam filter.  One would either have to blind such non-spam indicators or get a very wide collection of non-spam to generate a general purpose spam filter.\\n\\nFor background on spam: Cranor, Lorrie F., LaMacchia, Brian A.  Spam!, Communications of the ACM, 41(8):74-83, 1998.\\n\\nTypical performance is around ~7% misclassification error. False positives (marking good mail as spam) are very undesirable.If we insist on zero false positives in the training/testing set, 20-25% of the spam passed through the filter. See also Hewlett-Packard Internal-only Technical Report. External version forthcoming. ', 'purpose': None, 'funded_by': None, 'instances_represent': 'Emails', 'recommended_data_splits': None, 'sensitive_data': None, 'preprocessing_description': None, 'variable_info': 'The last column of \\'spambase.data\\' denotes whether the e-mail was considered spam (1) or not (0), i.e. unsolicited commercial e-mail.  Most of the attributes indicate whether a particular word or character was frequently occuring in the e-mail.  The run-length attributes (55-57) measure the length of sequences of consecutive capital letters.  For the statistical measures of each attribute, see the end of this file.  Here are the definitions of the attributes:\\r\\n\\r\\n48 continuous real [0,100] attributes of type word_freq_WORD \\r\\n= percentage of words in the e-mail that match WORD, i.e. 100 * (number of times the WORD appears in the e-mail) / total number of words in e-mail.  A \"word\" in this case is any string of alphanumeric characters bounded by non-alphanumeric characters or end-of-string.\\r\\n\\r\\n6 continuous real [0,100] attributes of type char_freq_CHAR] \\r\\n= percentage of characters in the e-mail that match CHAR, i.e. 100 * (number of CHAR occurences) / total characters in e-mail\\r\\n\\r\\n1 continuous real [1,...] attribute of type capital_run_length_average \\r\\n= average length of uninterrupted sequences of capital letters\\r\\n\\r\\n1 continuous integer [1,...] attribute of type capital_run_length_longest \\r\\n= length of longest uninterrupted sequence of capital letters\\r\\n\\r\\n1 continuous integer [1,...] attribute of type capital_run_length_total \\r\\n= sum of length of uninterrupted sequences of capital letters \\r\\n= total number of capital letters in the e-mail\\r\\n\\r\\n1 nominal {0,1} class attribute of type spam\\r\\n= denotes whether the e-mail was considered spam (1) or not (0), i.e. unsolicited commercial e-mail.  \\r\\n', 'citation': None}}\n",
            "                          name     role        type demographic  \\\n",
            "0               word_freq_make  Feature  Continuous        None   \n",
            "1            word_freq_address  Feature  Continuous        None   \n",
            "2                word_freq_all  Feature  Continuous        None   \n",
            "3                 word_freq_3d  Feature  Continuous        None   \n",
            "4                word_freq_our  Feature  Continuous        None   \n",
            "5               word_freq_over  Feature  Continuous        None   \n",
            "6             word_freq_remove  Feature  Continuous        None   \n",
            "7           word_freq_internet  Feature  Continuous        None   \n",
            "8              word_freq_order  Feature  Continuous        None   \n",
            "9               word_freq_mail  Feature  Continuous        None   \n",
            "10           word_freq_receive  Feature  Continuous        None   \n",
            "11              word_freq_will  Feature  Continuous        None   \n",
            "12            word_freq_people  Feature  Continuous        None   \n",
            "13            word_freq_report  Feature  Continuous        None   \n",
            "14         word_freq_addresses  Feature  Continuous        None   \n",
            "15              word_freq_free  Feature  Continuous        None   \n",
            "16          word_freq_business  Feature  Continuous        None   \n",
            "17             word_freq_email  Feature  Continuous        None   \n",
            "18               word_freq_you  Feature  Continuous        None   \n",
            "19            word_freq_credit  Feature  Continuous        None   \n",
            "20              word_freq_your  Feature  Continuous        None   \n",
            "21              word_freq_font  Feature  Continuous        None   \n",
            "22               word_freq_000  Feature  Continuous        None   \n",
            "23             word_freq_money  Feature  Continuous        None   \n",
            "24                word_freq_hp  Feature  Continuous        None   \n",
            "25               word_freq_hpl  Feature  Continuous        None   \n",
            "26            word_freq_george  Feature  Continuous        None   \n",
            "27               word_freq_650  Feature  Continuous        None   \n",
            "28               word_freq_lab  Feature  Continuous        None   \n",
            "29              word_freq_labs  Feature  Continuous        None   \n",
            "30            word_freq_telnet  Feature  Continuous        None   \n",
            "31               word_freq_857  Feature  Continuous        None   \n",
            "32              word_freq_data  Feature  Continuous        None   \n",
            "33               word_freq_415  Feature  Continuous        None   \n",
            "34                word_freq_85  Feature  Continuous        None   \n",
            "35        word_freq_technology  Feature  Continuous        None   \n",
            "36              word_freq_1999  Feature  Continuous        None   \n",
            "37             word_freq_parts  Feature  Continuous        None   \n",
            "38                word_freq_pm  Feature  Continuous        None   \n",
            "39            word_freq_direct  Feature  Continuous        None   \n",
            "40                word_freq_cs  Feature  Continuous        None   \n",
            "41           word_freq_meeting  Feature  Continuous        None   \n",
            "42          word_freq_original  Feature  Continuous        None   \n",
            "43           word_freq_project  Feature  Continuous        None   \n",
            "44                word_freq_re  Feature  Continuous        None   \n",
            "45               word_freq_edu  Feature  Continuous        None   \n",
            "46             word_freq_table  Feature  Continuous        None   \n",
            "47        word_freq_conference  Feature  Continuous        None   \n",
            "48                 char_freq_;  Feature  Continuous        None   \n",
            "49                 char_freq_(  Feature  Continuous        None   \n",
            "50                 char_freq_[  Feature  Continuous        None   \n",
            "51                 char_freq_!  Feature  Continuous        None   \n",
            "52                 char_freq_$  Feature  Continuous        None   \n",
            "53                 char_freq_#  Feature  Continuous        None   \n",
            "54  capital_run_length_average  Feature  Continuous        None   \n",
            "55  capital_run_length_longest  Feature  Continuous        None   \n",
            "56    capital_run_length_total  Feature  Continuous        None   \n",
            "57                       Class   Target      Binary        None   \n",
            "\n",
            "                 description units missing_values  \n",
            "0                       None  None             no  \n",
            "1                       None  None             no  \n",
            "2                       None  None             no  \n",
            "3                       None  None             no  \n",
            "4                       None  None             no  \n",
            "5                       None  None             no  \n",
            "6                       None  None             no  \n",
            "7                       None  None             no  \n",
            "8                       None  None             no  \n",
            "9                       None  None             no  \n",
            "10                      None  None             no  \n",
            "11                      None  None             no  \n",
            "12                      None  None             no  \n",
            "13                      None  None             no  \n",
            "14                      None  None             no  \n",
            "15                      None  None             no  \n",
            "16                      None  None             no  \n",
            "17                      None  None             no  \n",
            "18                      None  None             no  \n",
            "19                      None  None             no  \n",
            "20                      None  None             no  \n",
            "21                      None  None             no  \n",
            "22                      None  None             no  \n",
            "23                      None  None             no  \n",
            "24                      None  None             no  \n",
            "25                      None  None             no  \n",
            "26                      None  None             no  \n",
            "27                      None  None             no  \n",
            "28                      None  None             no  \n",
            "29                      None  None             no  \n",
            "30                      None  None             no  \n",
            "31                      None  None             no  \n",
            "32                      None  None             no  \n",
            "33                      None  None             no  \n",
            "34                      None  None             no  \n",
            "35                      None  None             no  \n",
            "36                      None  None             no  \n",
            "37                      None  None             no  \n",
            "38                      None  None             no  \n",
            "39                      None  None             no  \n",
            "40                      None  None             no  \n",
            "41                      None  None             no  \n",
            "42                      None  None             no  \n",
            "43                      None  None             no  \n",
            "44                      None  None             no  \n",
            "45                      None  None             no  \n",
            "46                      None  None             no  \n",
            "47                      None  None             no  \n",
            "48                      None  None             no  \n",
            "49                      None  None             no  \n",
            "50                      None  None             no  \n",
            "51                      None  None             no  \n",
            "52                      None  None             no  \n",
            "53                      None  None             no  \n",
            "54                      None  None             no  \n",
            "55                      None  None             no  \n",
            "56                      None  None             no  \n",
            "57  spam (1) or not spam (0)  None             no  \n"
          ]
        }
      ]
    },
    {
      "cell_type": "code",
      "source": [
        "features = X\n",
        "target = y"
      ],
      "metadata": {
        "id": "spHe-4MwHww8"
      },
      "execution_count": 70,
      "outputs": []
    },
    {
      "cell_type": "code",
      "source": [
        "scaler = StandardScaler()\n",
        "scaler.fit(features)\n",
        "standardized_data = scaler.transform(features)"
      ],
      "metadata": {
        "id": "WXct22muH2jT"
      },
      "execution_count": 71,
      "outputs": []
    },
    {
      "cell_type": "code",
      "source": [
        "features = standardized_data\n",
        "target = y"
      ],
      "metadata": {
        "id": "YcncSCWfH_UT"
      },
      "execution_count": 72,
      "outputs": []
    },
    {
      "cell_type": "code",
      "source": [
        "X_train, X_test, Y_train, Y_test = train_test_split(features,target, test_size = 0.2, random_state=2)\n"
      ],
      "metadata": {
        "id": "Hp7-VOybIBdd"
      },
      "execution_count": 73,
      "outputs": []
    },
    {
      "cell_type": "code",
      "source": [
        "from sklearn.model_selection import train_test_split\n",
        "from sklearn.preprocessing import StandardScaler\n",
        "from sklearn.linear_model import LogisticRegression\n"
      ],
      "metadata": {
        "id": "COhtnrxTAzzq"
      },
      "execution_count": 74,
      "outputs": []
    },
    {
      "cell_type": "code",
      "source": [
        "spam_lr_library = LogisticRegression()\n",
        "spam_lr_library.fit(X_train, Y_train)\n",
        "X_test_prediction = spam_lr_library.predict(X_test)\n",
        "X_train_prediction = spam_lr_library.predict(X_train)"
      ],
      "metadata": {
        "colab": {
          "base_uri": "https://localhost:8080/"
        },
        "id": "pVe0nxnzBwAX",
        "outputId": "c54d57a4-fedb-4b0e-8a6d-c671b92cac69"
      },
      "execution_count": 75,
      "outputs": [
        {
          "output_type": "stream",
          "name": "stderr",
          "text": [
            "/usr/local/lib/python3.10/dist-packages/sklearn/utils/validation.py:1143: DataConversionWarning: A column-vector y was passed when a 1d array was expected. Please change the shape of y to (n_samples, ), for example using ravel().\n",
            "  y = column_or_1d(y, warn=True)\n"
          ]
        }
      ]
    },
    {
      "cell_type": "code",
      "source": [
        "#confusion matrix\n",
        "cf_matrix = confusion_matrix(Y_test, X_test_prediction)\n",
        "print(cf_matrix)\n",
        "\n",
        "# F1 score for training data predictions\n",
        "f1_score_train = f1_score(Y_train, X_train_prediction)\n",
        "print('Training data F1 Score =', f1_score_train)\n",
        "\n",
        "# F1 Score for test data predictions\n",
        "f1_score_test = recall_score(Y_test, X_test_prediction)\n",
        "print('Test data F1 Score =', f1_score_test)\n",
        "\n",
        "# recall for training data predictions\n",
        "recall_train = recall_score(Y_train, X_train_prediction)\n",
        "print('Training data Recall =', recall_train)\n",
        "\n",
        "# recall for test data predictions\n",
        "recall_test = recall_score(Y_test, X_test_prediction)\n",
        "print('Test data Recall =', recall_test)\n",
        "\n",
        "# precision for training data predictions\n",
        "precision_train = precision_score(Y_train, X_train_prediction)\n",
        "print('Training data Precision =', precision_train)\n",
        "\n",
        "# precision for test data predictions\n",
        "precision_test = precision_score(Y_test, X_test_prediction)\n",
        "print('Test data Precision =', precision_test)\n",
        "\n",
        "# accuracy on training data\n",
        "X_train_prediction = spam_lr_library.predict(X_train)\n",
        "training_data_accuracy = accuracy_score(Y_train, X_train_prediction)\n",
        "print(training_data_accuracy)\n",
        "\n",
        "print('Accuracy on Training data using logistic regression : ', round(training_data_accuracy*100, 2), '%')\n",
        "\n",
        "# accuracy on test data\n",
        "X_test_prediction = spam_lr_library.predict(X_test)\n",
        "test_data_accuracy = accuracy_score(Y_test, X_test_prediction)\n",
        "print(test_data_accuracy)\n",
        "print('Accuracy on Test data : ', round(test_data_accuracy*100, 2), '%')"
      ],
      "metadata": {
        "colab": {
          "base_uri": "https://localhost:8080/"
        },
        "outputId": "beeda599-bb1d-4d6b-a9c6-44b2a93ef43a",
        "id": "D0n7N0x-B_V4"
      },
      "execution_count": 91,
      "outputs": [
        {
          "output_type": "stream",
          "name": "stdout",
          "text": [
            "[[527  18]\n",
            " [ 49 327]]\n",
            "Training data Precision = 0.9266187050359712\n",
            "Test data Precision = 0.9478260869565217\n",
            "0.9317934782608696\n",
            "Accuracy on Training data using logistic regression :  93.18 %\n",
            "0.9272529858849077\n",
            "Accuracy on Test data :  92.73 %\n"
          ]
        }
      ]
    },
    {
      "cell_type": "code",
      "source": [
        "from sklearn.svm import SVC\n",
        "spam_svm_library = SVC(kernel='linear')\n",
        "spam_svm_library.fit(X_train, Y_train)\n",
        "X_test_prediction = spam_svm_library.predict(X_test)\n",
        "X_train_prediction = spam_svm_library.predict(X_train)"
      ],
      "metadata": {
        "colab": {
          "base_uri": "https://localhost:8080/"
        },
        "id": "019r1iGqCTTm",
        "outputId": "845b2ce3-3fda-404f-c841-ce1b7b0a838e"
      },
      "execution_count": 77,
      "outputs": [
        {
          "output_type": "stream",
          "name": "stderr",
          "text": [
            "/usr/local/lib/python3.10/dist-packages/sklearn/utils/validation.py:1143: DataConversionWarning: A column-vector y was passed when a 1d array was expected. Please change the shape of y to (n_samples, ), for example using ravel().\n",
            "  y = column_or_1d(y, warn=True)\n"
          ]
        }
      ]
    },
    {
      "cell_type": "code",
      "source": [
        "#confusion matrix\n",
        "cf_matrix = confusion_matrix(Y_test, X_test_prediction)\n",
        "print(cf_matrix)\n",
        "\n",
        "# F1 score for training data predictions\n",
        "f1_score_train = f1_score(Y_train, X_train_prediction)\n",
        "print('Training data F1 Score =', f1_score_train)\n",
        "\n",
        "# F1 Score for test data predictions\n",
        "f1_score_test = recall_score(Y_test, X_test_prediction)\n",
        "print('Test data F1 Score =', f1_score_test)\n",
        "\n",
        "# recall for training data predictions\n",
        "recall_train = recall_score(Y_train, X_train_prediction)\n",
        "print('Training data Recall =', recall_train)\n",
        "\n",
        "# recall for test data predictions\n",
        "recall_test = recall_score(Y_test, X_test_prediction)\n",
        "print('Test data Recall =', recall_test)\n",
        "\n",
        "# precision for training data predictions\n",
        "precision_train = precision_score(Y_train, X_train_prediction)\n",
        "print('Training data Precision =', precision_train)\n",
        "\n",
        "# precision for test data predictions\n",
        "precision_test = precision_score(Y_test, X_test_prediction)\n",
        "print('Test data Precision =', precision_test)\n",
        "\n",
        "# accuracy on training data\n",
        "X_train_prediction = spam_svm_library.predict(X_train)\n",
        "training_data_accuracy = accuracy_score(Y_train, X_train_prediction)\n",
        "print(training_data_accuracy)\n",
        "\n",
        "print('Accuracy on Training data  using svc: ', round(training_data_accuracy*100, 2), '%')\n",
        "\n",
        "# accuracy on test data\n",
        "X_test_prediction = spam_svm_library.predict(X_test)\n",
        "test_data_accuracy = accuracy_score(Y_test, X_test_prediction)\n",
        "print(test_data_accuracy)\n",
        "print('Accuracy on Test data : ', round(test_data_accuracy*100, 2), '%')"
      ],
      "metadata": {
        "colab": {
          "base_uri": "https://localhost:8080/"
        },
        "outputId": "de98e943-f020-4d10-b386-15428e13bb24",
        "id": "TKXlDRpmC2pO"
      },
      "execution_count": 92,
      "outputs": [
        {
          "output_type": "stream",
          "name": "stdout",
          "text": [
            "[[527  18]\n",
            " [ 49 327]]\n",
            "Training data F1 Score = 0.9112133003183588\n",
            "Test data F1 Score = 0.8696808510638298\n",
            "Training data Recall = 0.8963117606123869\n",
            "Test data Recall = 0.8696808510638298\n",
            "Training data Precision = 0.9266187050359712\n",
            "Test data Precision = 0.9478260869565217\n",
            "0.935054347826087\n",
            "Accuracy on Training data  using svc:  93.51 %\n",
            "0.9283387622149837\n",
            "Accuracy on Test data :  92.83 %\n"
          ]
        }
      ]
    },
    {
      "cell_type": "code",
      "source": [
        "from sklearn.naive_bayes import GaussianNB"
      ],
      "metadata": {
        "id": "yUUA_Sn7Eixa"
      },
      "execution_count": 79,
      "outputs": []
    },
    {
      "cell_type": "code",
      "source": [
        "spam_nb_library = GaussianNB()\n",
        "spam_nb_library.fit(X_train, Y_train)\n",
        "X_test_prediction = spam_nb_library.predict(X_test)\n",
        "X_train_prediction = spam_nb_library.predict(X_train)"
      ],
      "metadata": {
        "colab": {
          "base_uri": "https://localhost:8080/"
        },
        "id": "lt19nPB2ErSL",
        "outputId": "324388f1-516e-4e48-a8a9-c508e69f1db3"
      },
      "execution_count": 80,
      "outputs": [
        {
          "output_type": "stream",
          "name": "stderr",
          "text": [
            "/usr/local/lib/python3.10/dist-packages/sklearn/utils/validation.py:1143: DataConversionWarning: A column-vector y was passed when a 1d array was expected. Please change the shape of y to (n_samples, ), for example using ravel().\n",
            "  y = column_or_1d(y, warn=True)\n"
          ]
        }
      ]
    },
    {
      "cell_type": "code",
      "source": [
        "#confusion matrix\n",
        "cf_matrix = confusion_matrix(Y_test, X_test_prediction)\n",
        "print(cf_matrix)\n",
        "\n",
        "# F1 score for training data predictions\n",
        "f1_score_train = f1_score(Y_train, X_train_prediction)\n",
        "print('Training data F1 Score =', f1_score_train)\n",
        "\n",
        "# F1 Score for test data predictions\n",
        "f1_score_test = recall_score(Y_test, X_test_prediction)\n",
        "print('Test data F1 Score =', f1_score_test)\n",
        "\n",
        "# recall for training data predictions\n",
        "recall_train = recall_score(Y_train, X_train_prediction)\n",
        "print('Training data Recall =', recall_train)\n",
        "\n",
        "# recall for test data predictions\n",
        "recall_test = recall_score(Y_test, X_test_prediction)\n",
        "print('Test data Recall =', recall_test)\n",
        "\n",
        "# precision for training data predictions\n",
        "precision_train = precision_score(Y_train, X_train_prediction)\n",
        "print('Training data Precision =', precision_train)\n",
        "\n",
        "# precision for test data predictions\n",
        "precision_test = precision_score(Y_test, X_test_prediction)\n",
        "print('Test data Precision =', precision_test)\n",
        "\n",
        "# accuracy on training data\n",
        "X_train_prediction = spam_nb_library.predict(X_train)\n",
        "training_data_accuracy = accuracy_score(Y_train, X_train_prediction)\n",
        "print(training_data_accuracy)\n",
        "\n",
        "print('Accuracy on Training data using naive bayes : ', round(training_data_accuracy*100, 2), '%')\n",
        "\n",
        "# accuracy on test data\n",
        "X_test_prediction = spam_nb_library.predict(X_test)\n",
        "test_data_accuracy = accuracy_score(Y_test, X_test_prediction)\n",
        "print(test_data_accuracy)\n",
        "print('Accuracy on Test data : ', round(test_data_accuracy*100, 2), '%')"
      ],
      "metadata": {
        "colab": {
          "base_uri": "https://localhost:8080/"
        },
        "id": "4vYomdHWFEWk",
        "outputId": "11cb93b4-62dd-40b2-fcf5-4f3a261988c9"
      },
      "execution_count": 93,
      "outputs": [
        {
          "output_type": "stream",
          "name": "stdout",
          "text": [
            "[[524  21]\n",
            " [ 45 331]]\n",
            "Training data F1 Score = 0.9158154279675943\n",
            "Test data F1 Score = 0.8803191489361702\n",
            "Training data Recall = 0.9046624913013221\n",
            "Test data Recall = 0.8803191489361702\n",
            "Training data Precision = 0.927246790299572\n",
            "Test data Precision = 0.9403409090909091\n",
            "0.8092391304347826\n",
            "Accuracy on Training data using naive bayes :  80.92 %\n",
            "0.8295331161780674\n",
            "Accuracy on Test data :  82.95 %\n"
          ]
        }
      ]
    },
    {
      "cell_type": "markdown",
      "source": [
        "from comparing th eaccuracy of all SVC has more accuracy so it is better algorithm"
      ],
      "metadata": {
        "id": "Bk8IYlhsnrGy"
      }
    },
    {
      "cell_type": "markdown",
      "source": [
        "**Without using Libraries**"
      ],
      "metadata": {
        "id": "oKmGj1fHol4p"
      }
    },
    {
      "cell_type": "code",
      "source": [
        "class Logistic_Regression():\n",
        "  def __init__(self, learning_rate, no_of_iterations):\n",
        "\n",
        "    self.learning_rate = learning_rate\n",
        "    self.no_of_iterations = no_of_iterations\n",
        "\n",
        "  def fit(self, X, Y):\n",
        "    self.m, self.n = X.shape\n",
        "    self.w = np.zeros(self.n)\n",
        "    self.b = 0\n",
        "    self.X = X\n",
        "    self.Y = Y.values.ravel()\n",
        "\n",
        "    for i in range(self.no_of_iterations):\n",
        "      self.update_weights()\n",
        "  def update_weights(self):\n",
        "\n",
        "    Y_hat = 1 / (1 + np.exp( - (self.X.dot(self.w) + self.b ) ))\n",
        "\n",
        "    dw = (1/self.m)*np.dot(self.X.T, (Y_hat - self.Y))\n",
        "    db = (1/self.m)*np.sum(Y_hat - self.Y)\n",
        "\n",
        "    self.w = self.w - self.learning_rate * dw\n",
        "    self.b = self.b - self.learning_rate * db\n",
        "\n",
        "  def predict(self, X):\n",
        "    Y_pred = 1 / (1 + np.exp( - (X.dot(self.w) + self.b ) ))\n",
        "    Y_pred = np.where( Y_pred > 0.5, 1, 0)\n",
        "    return Y_pred\n"
      ],
      "metadata": {
        "id": "0l86eYc0G9y3"
      },
      "execution_count": 82,
      "outputs": []
    },
    {
      "cell_type": "code",
      "source": [
        "spam_lr = Logistic_Regression(learning_rate=0.01, no_of_iterations=1000)\n",
        "spam_lr.fit(X_train, Y_train)\n",
        "X_test_prediction = spam_lr.predict(X_test)\n",
        "X_train_prediction = spam_lr.predict(X_train)"
      ],
      "metadata": {
        "id": "PTNYfD0JIMas"
      },
      "execution_count": 83,
      "outputs": []
    },
    {
      "cell_type": "code",
      "source": [
        "#confusion matrix\n",
        "cf_matrix = confusion_matrix(Y_test, X_test_prediction)\n",
        "print(cf_matrix)\n",
        "\n",
        "# F1 score for training data predictions\n",
        "f1_score_train = f1_score(Y_train, X_train_prediction)\n",
        "print('Training data F1 Score =', f1_score_train)\n",
        "\n",
        "# F1 Score for test data predictions\n",
        "f1_score_test = recall_score(Y_test, X_test_prediction)\n",
        "print('Test data F1 Score =', f1_score_test)\n",
        "\n",
        "# recall for training data predictions\n",
        "recall_train = recall_score(Y_train, X_train_prediction)\n",
        "print('Training data Recall =', recall_train)\n",
        "\n",
        "# recall for test data predictions\n",
        "recall_test = recall_score(Y_test, X_test_prediction)\n",
        "print('Test data Recall =', recall_test)\n",
        "\n",
        "# precision for training data predictions\n",
        "precision_train = precision_score(Y_train, X_train_prediction)\n",
        "print('Training data Precision =', precision_train)\n",
        "\n",
        "# precision for test data predictions\n",
        "precision_test = precision_score(Y_test, X_test_prediction)\n",
        "print('Test data Precision =', precision_test)\n",
        "\n",
        "# accuracy on training data\n",
        "X_train_prediction = spam_lr.predict(X_train)\n",
        "training_data_accuracy = accuracy_score(Y_train, X_train_prediction)\n",
        "print(training_data_accuracy)\n",
        "\n",
        "print('Accuracy on Training data : ', round(training_data_accuracy*100, 2), '%')\n",
        "\n",
        "# accuracy on test data\n",
        "X_test_prediction = spam_lr.predict(X_test)\n",
        "test_data_accuracy = accuracy_score(Y_test, X_test_prediction)\n",
        "print(test_data_accuracy)\n",
        "print('Accuracy on Test data : ', round(test_data_accuracy*100, 2), '%')"
      ],
      "metadata": {
        "colab": {
          "base_uri": "https://localhost:8080/"
        },
        "id": "pEg-mOQURGZ5",
        "outputId": "29580762-ad26-48a9-f97a-92f991445b46"
      },
      "execution_count": 84,
      "outputs": [
        {
          "output_type": "stream",
          "name": "stdout",
          "text": [
            "[[520  25]\n",
            " [ 63 313]]\n",
            "Training data F1 Score = 0.8809523809523809\n",
            "Test data F1 Score = 0.8324468085106383\n",
            "Training data Recall = 0.8496868475991649\n",
            "Test data Recall = 0.8324468085106383\n",
            "Training data Precision = 0.9146067415730337\n",
            "Test data Precision = 0.9260355029585798\n",
            "0.9103260869565217\n",
            "Accuracy on Training data :  91.03 %\n",
            "0.9044516829533116\n",
            "Accuracy on Test data :  90.45 %\n"
          ]
        }
      ]
    },
    {
      "cell_type": "markdown",
      "source": [
        "#   naive bayes\n"
      ],
      "metadata": {
        "id": "OWuZCtuA_0sa"
      }
    },
    {
      "cell_type": "markdown",
      "source": [],
      "metadata": {
        "id": "sqrPZj0wcMLA"
      }
    },
    {
      "cell_type": "markdown",
      "source": [
        "new part\n"
      ],
      "metadata": {
        "id": "eGaf_JP_cMj0"
      }
    },
    {
      "cell_type": "code",
      "source": [
        "import numpy as np\n",
        "import pandas as pd\n",
        "from sklearn.model_selection import train_test_split\n",
        "\n",
        "# Function to calculate the mean and variance for each class\n",
        "def calculate_mean_variance(X, y):\n",
        "    classes = np.unique(y)\n",
        "    mean = {}\n",
        "    var = {}\n",
        "    priors = {}\n",
        "    for c in classes:\n",
        "        X_c = X[y == c]\n",
        "        mean[c] = X_c.mean(axis=0)\n",
        "        var[c] = X_c.var(axis=0)\n",
        "        priors[c] = X_c.shape[0] / float(len(y))\n",
        "    return mean, var, priors\n",
        "\n",
        "# Function to calculate the Gaussian probability density function\n",
        "def gaussian_pdf(x, mean, var):\n",
        "    numerator = np.exp(-((x - mean) ** 2) / (2 * var))\n",
        "    denominator = np.sqrt(2 * np.pi * var)\n",
        "    return numerator / denominator\n",
        "\n",
        "# Function to calculate the posterior probabilities and predict the class\n",
        "def predict_single(x, mean, var, priors):\n",
        "    posteriors = {}\n",
        "    for c in mean.keys():\n",
        "        prior = np.log(priors[c])\n",
        "        posterior = np.sum(np.log(gaussian_pdf(x, mean[c], var[c])))\n",
        "        posteriors[c] = prior + posterior\n",
        "    return max(posteriors, key=posteriors.get)\n",
        "\n",
        "# Function to predict classes for multiple samples\n",
        "def predict(X, mean, var, priors):\n",
        "    y_pred = [predict_single(x, mean, var, priors) for x in X]\n",
        "    return np.array(y_pred)\n",
        "\n",
        "# Function to calculate accuracy\n",
        "def accuracy(y_true, y_pred):\n",
        "    return np.sum(y_true == y_pred) / len(y_true)\n",
        "\n",
        "# Main function to load data, train the model, and test it\n",
        "def main():\n",
        "    # Load the dataset\n",
        "    df = pd.read_csv('/content/spambase.csv')\n",
        "\n",
        "    # Assume the last column is the target variable\n",
        "    X = df.iloc[:, :-1].values\n",
        "    y = df.iloc[:, -1].values\n",
        "\n",
        "    # Split the data into training and testing sets\n",
        "    X_train, X_test, y_train, y_test = train_test_split(X, y, test_size=0.2, random_state=123)\n",
        "\n",
        "    # Train the Naive Bayes classifier\n",
        "    mean, var, priors = calculate_mean_variance(X_train, y_train)\n",
        "    predictions = predict(X_test, mean, var, priors)\n",
        "\n",
        "    # Print the accuracy\n",
        "    print(\"Naive Bayes classification accuracy:\", accuracy(y_test, predictions))\n",
        "    print(df.head())\n",
        "\n",
        "\n",
        "\n",
        "if __name__ == \"__main__\":\n",
        "    main()\n"
      ],
      "metadata": {
        "colab": {
          "base_uri": "https://localhost:8080/"
        },
        "id": "9EVrP2q_hQXZ",
        "outputId": "923b2656-3281-4865-8528-a6dcea07f22f"
      },
      "execution_count": 89,
      "outputs": [
        {
          "output_type": "stream",
          "name": "stdout",
          "text": [
            "Naive Bayes classification accuracy: 0.8219326818675353\n",
            "   word_freq_make  word_freq_address  word_freq_all  word_freq_3d  \\\n",
            "0            0.00               0.64           0.64           0.0   \n",
            "1            0.21               0.28           0.50           0.0   \n",
            "2            0.06               0.00           0.71           0.0   \n",
            "3            0.00               0.00           0.00           0.0   \n",
            "4            0.00               0.00           0.00           0.0   \n",
            "\n",
            "   word_freq_our  word_freq_over  word_freq_remove  word_freq_internet  \\\n",
            "0           0.32            0.00              0.00                0.00   \n",
            "1           0.14            0.28              0.21                0.07   \n",
            "2           1.23            0.19              0.19                0.12   \n",
            "3           0.63            0.00              0.31                0.63   \n",
            "4           0.63            0.00              0.31                0.63   \n",
            "\n",
            "   word_freq_order  word_freq_mail  ...  char_freq_;  char_freq_(  \\\n",
            "0             0.00            0.00  ...         0.00        0.000   \n",
            "1             0.00            0.94  ...         0.00        0.132   \n",
            "2             0.64            0.25  ...         0.01        0.143   \n",
            "3             0.31            0.63  ...         0.00        0.137   \n",
            "4             0.31            0.63  ...         0.00        0.135   \n",
            "\n",
            "   char_freq_[  char_freq_!  char_freq_$  char_freq_#  \\\n",
            "0          0.0        0.778        0.000        0.000   \n",
            "1          0.0        0.372        0.180        0.048   \n",
            "2          0.0        0.276        0.184        0.010   \n",
            "3          0.0        0.137        0.000        0.000   \n",
            "4          0.0        0.135        0.000        0.000   \n",
            "\n",
            "   capital_run_length_average  capital_run_length_longest  \\\n",
            "0                       3.756                          61   \n",
            "1                       5.114                         101   \n",
            "2                       9.821                         485   \n",
            "3                       3.537                          40   \n",
            "4                       3.537                          40   \n",
            "\n",
            "   capital_run_length_total  is_spam  \n",
            "0                       278        1  \n",
            "1                      1028        1  \n",
            "2                      2259        1  \n",
            "3                       191        1  \n",
            "4                       191        1  \n",
            "\n",
            "[5 rows x 58 columns]\n"
          ]
        },
        {
          "output_type": "stream",
          "name": "stderr",
          "text": [
            "<ipython-input-89-3766eebd0f90>:29: RuntimeWarning: divide by zero encountered in log\n",
            "  posterior = np.sum(np.log(gaussian_pdf(x, mean[c], var[c])))\n"
          ]
        }
      ]
    },
    {
      "cell_type": "code",
      "source": [],
      "metadata": {
        "id": "je4hRN4ahQFk"
      },
      "execution_count": 89,
      "outputs": []
    }
  ]
}